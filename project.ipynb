{
 "cells": [
  {
   "cell_type": "markdown",
   "metadata": {},
   "source": [
    "# App Rating Prediction"
   ]
  },
  {
   "cell_type": "markdown",
   "metadata": {},
   "source": [
    "### Index\n",
    "[1. Loading the Dataset.](#1.-Loading-the-Dataset.)\n",
    "\n",
    "[ 2. Checking for tha Null Values and getting the no of them in each column](#2.-Checking-for-tha-Null-Values-and-getting-the-no-of-them-in-each-column)\n",
    "\n",
    "[ 3. Dropping the Null values](#3.-Dropping-the-Null-values)\n",
    "\n",
    "[4. Fixing the variable which are of incorrect type and inconsistant format](#4.-Fixing-the-variable-which-are-of-incorrect-type-and-inconsistant-format)\n",
    "\n",
    "[5. Univariate Analysis](#5.-Univariate-Analysis)\n",
    "      \n",
    "[6. Outlier Treatment](#6.-Outlier-Treatment)\n",
    "\n",
    "[7. Bivariate Analysis](#7.-Bivariate-Analysis)\n",
    "\n",
    "[8. Data Preprocessing](#8.-Data-Preprocessing)\n",
    "\n",
    "[9. Train/Test split to 70-30 Ratio ](#9.-Train/Test-split-to-70-30-Ratio)\n",
    "\n",
    "[10. Separate the dataframes into X_train, y_train,X_test, and y_test.](#10.-Separate-the-dataframes-into-X_train,-y_train,X_test,-and-y_test.)\n",
    "\n",
    "[11. Model building](#11.-Model-building)\n",
    "\n",
    "[12. R squared on Test set](#12.-R-squared-on-Test-set)"
   ]
  },
  {
   "cell_type": "code",
   "execution_count": 7,
   "metadata": {},
   "outputs": [],
   "source": [
    "import numpy as np\n",
    "import pandas as pd"
   ]
  },
  {
   "cell_type": "markdown",
   "metadata": {},
   "source": [
    "# 1. Loading the Dataset. "
   ]
  },
  {
   "cell_type": "code",
   "execution_count": 8,
   "metadata": {},
   "outputs": [],
   "source": [
    "df = pd.read_csv('googleplaystore.csv')"
   ]
  },
  {
   "cell_type": "code",
   "execution_count": 9,
   "metadata": {},
   "outputs": [
    {
     "data": {
      "text/html": [
       "<div>\n",
       "<style scoped>\n",
       "    .dataframe tbody tr th:only-of-type {\n",
       "        vertical-align: middle;\n",
       "    }\n",
       "\n",
       "    .dataframe tbody tr th {\n",
       "        vertical-align: top;\n",
       "    }\n",
       "\n",
       "    .dataframe thead th {\n",
       "        text-align: right;\n",
       "    }\n",
       "</style>\n",
       "<table border=\"1\" class=\"dataframe\">\n",
       "  <thead>\n",
       "    <tr style=\"text-align: right;\">\n",
       "      <th></th>\n",
       "      <th>App</th>\n",
       "      <th>Category</th>\n",
       "      <th>Rating</th>\n",
       "      <th>Reviews</th>\n",
       "      <th>Size</th>\n",
       "      <th>Installs</th>\n",
       "      <th>Type</th>\n",
       "      <th>Price</th>\n",
       "      <th>Content Rating</th>\n",
       "      <th>Genres</th>\n",
       "      <th>Last Updated</th>\n",
       "      <th>Current Ver</th>\n",
       "      <th>Android Ver</th>\n",
       "    </tr>\n",
       "  </thead>\n",
       "  <tbody>\n",
       "    <tr>\n",
       "      <th>0</th>\n",
       "      <td>Photo Editor &amp; Candy Camera &amp; Grid &amp; ScrapBook</td>\n",
       "      <td>ART_AND_DESIGN</td>\n",
       "      <td>4.1</td>\n",
       "      <td>159</td>\n",
       "      <td>19M</td>\n",
       "      <td>10,000+</td>\n",
       "      <td>Free</td>\n",
       "      <td>0</td>\n",
       "      <td>Everyone</td>\n",
       "      <td>Art &amp; Design</td>\n",
       "      <td>January 7, 2018</td>\n",
       "      <td>1.0.0</td>\n",
       "      <td>4.0.3 and up</td>\n",
       "    </tr>\n",
       "    <tr>\n",
       "      <th>1</th>\n",
       "      <td>Coloring book moana</td>\n",
       "      <td>ART_AND_DESIGN</td>\n",
       "      <td>3.9</td>\n",
       "      <td>967</td>\n",
       "      <td>14M</td>\n",
       "      <td>500,000+</td>\n",
       "      <td>Free</td>\n",
       "      <td>0</td>\n",
       "      <td>Everyone</td>\n",
       "      <td>Art &amp; Design;Pretend Play</td>\n",
       "      <td>January 15, 2018</td>\n",
       "      <td>2.0.0</td>\n",
       "      <td>4.0.3 and up</td>\n",
       "    </tr>\n",
       "    <tr>\n",
       "      <th>2</th>\n",
       "      <td>U Launcher Lite – FREE Live Cool Themes, Hide ...</td>\n",
       "      <td>ART_AND_DESIGN</td>\n",
       "      <td>4.7</td>\n",
       "      <td>87510</td>\n",
       "      <td>8.7M</td>\n",
       "      <td>5,000,000+</td>\n",
       "      <td>Free</td>\n",
       "      <td>0</td>\n",
       "      <td>Everyone</td>\n",
       "      <td>Art &amp; Design</td>\n",
       "      <td>August 1, 2018</td>\n",
       "      <td>1.2.4</td>\n",
       "      <td>4.0.3 and up</td>\n",
       "    </tr>\n",
       "    <tr>\n",
       "      <th>3</th>\n",
       "      <td>Sketch - Draw &amp; Paint</td>\n",
       "      <td>ART_AND_DESIGN</td>\n",
       "      <td>4.5</td>\n",
       "      <td>215644</td>\n",
       "      <td>25M</td>\n",
       "      <td>50,000,000+</td>\n",
       "      <td>Free</td>\n",
       "      <td>0</td>\n",
       "      <td>Teen</td>\n",
       "      <td>Art &amp; Design</td>\n",
       "      <td>June 8, 2018</td>\n",
       "      <td>Varies with device</td>\n",
       "      <td>4.2 and up</td>\n",
       "    </tr>\n",
       "    <tr>\n",
       "      <th>4</th>\n",
       "      <td>Pixel Draw - Number Art Coloring Book</td>\n",
       "      <td>ART_AND_DESIGN</td>\n",
       "      <td>4.3</td>\n",
       "      <td>967</td>\n",
       "      <td>2.8M</td>\n",
       "      <td>100,000+</td>\n",
       "      <td>Free</td>\n",
       "      <td>0</td>\n",
       "      <td>Everyone</td>\n",
       "      <td>Art &amp; Design;Creativity</td>\n",
       "      <td>June 20, 2018</td>\n",
       "      <td>1.1</td>\n",
       "      <td>4.4 and up</td>\n",
       "    </tr>\n",
       "  </tbody>\n",
       "</table>\n",
       "</div>"
      ],
      "text/plain": [
       "                                                 App        Category  Rating  \\\n",
       "0     Photo Editor & Candy Camera & Grid & ScrapBook  ART_AND_DESIGN     4.1   \n",
       "1                                Coloring book moana  ART_AND_DESIGN     3.9   \n",
       "2  U Launcher Lite – FREE Live Cool Themes, Hide ...  ART_AND_DESIGN     4.7   \n",
       "3                              Sketch - Draw & Paint  ART_AND_DESIGN     4.5   \n",
       "4              Pixel Draw - Number Art Coloring Book  ART_AND_DESIGN     4.3   \n",
       "\n",
       "  Reviews  Size     Installs  Type Price Content Rating  \\\n",
       "0     159   19M      10,000+  Free     0       Everyone   \n",
       "1     967   14M     500,000+  Free     0       Everyone   \n",
       "2   87510  8.7M   5,000,000+  Free     0       Everyone   \n",
       "3  215644   25M  50,000,000+  Free     0           Teen   \n",
       "4     967  2.8M     100,000+  Free     0       Everyone   \n",
       "\n",
       "                      Genres      Last Updated         Current Ver  \\\n",
       "0               Art & Design   January 7, 2018               1.0.0   \n",
       "1  Art & Design;Pretend Play  January 15, 2018               2.0.0   \n",
       "2               Art & Design    August 1, 2018               1.2.4   \n",
       "3               Art & Design      June 8, 2018  Varies with device   \n",
       "4    Art & Design;Creativity     June 20, 2018                 1.1   \n",
       "\n",
       "    Android Ver  \n",
       "0  4.0.3 and up  \n",
       "1  4.0.3 and up  \n",
       "2  4.0.3 and up  \n",
       "3    4.2 and up  \n",
       "4    4.4 and up  "
      ]
     },
     "execution_count": 9,
     "metadata": {},
     "output_type": "execute_result"
    }
   ],
   "source": [
    "df.head()"
   ]
  },
  {
   "cell_type": "markdown",
   "metadata": {},
   "source": [
    "# 2. Checking for tha Null Values and getting the no of them in each column"
   ]
  },
  {
   "cell_type": "code",
   "execution_count": 10,
   "metadata": {},
   "outputs": [
    {
     "data": {
      "text/plain": [
       "App                  0\n",
       "Category             0\n",
       "Rating            1474\n",
       "Reviews              0\n",
       "Size                 0\n",
       "Installs             0\n",
       "Type                 1\n",
       "Price                0\n",
       "Content Rating       1\n",
       "Genres               0\n",
       "Last Updated         0\n",
       "Current Ver          8\n",
       "Android Ver          3\n",
       "dtype: int64"
      ]
     },
     "execution_count": 10,
     "metadata": {},
     "output_type": "execute_result"
    }
   ],
   "source": [
    "df.isna().sum()"
   ]
  },
  {
   "cell_type": "raw",
   "metadata": {},
   "source": [
    "The Null values in the diff variable are following:\n",
    "    Rating ---> 1474\n",
    "    Type   ---> 1\n",
    "    Content Rating --> 1\n",
    "    Current Ver --->  8\n",
    "    Android ver ---> 3"
   ]
  },
  {
   "cell_type": "markdown",
   "metadata": {},
   "source": [
    "# 3. Dropping the Null values"
   ]
  },
  {
   "cell_type": "code",
   "execution_count": 11,
   "metadata": {},
   "outputs": [],
   "source": [
    "# Dropping the Null values and resetting the index\n",
    "df.dropna(subset = ['Type', 'Content Rating'],axis = 0, inplace= True)\n",
    "df.reset_index(drop = True, inplace = True)"
   ]
  },
  {
   "cell_type": "raw",
   "metadata": {},
   "source": [
    "'''\n",
    "we did not dropped Null values in Ratings,\n",
    "because we can replace the Null values.\n",
    "since the Rating is the ordinal, so i decided to fill Null values with median\n",
    "\n",
    "'''"
   ]
  },
  {
   "cell_type": "code",
   "execution_count": 12,
   "metadata": {},
   "outputs": [],
   "source": [
    "df['Rating'] = df['Rating'].fillna(df['Rating'].median())"
   ]
  },
  {
   "cell_type": "markdown",
   "metadata": {},
   "source": [
    "# 4. Fixing the variable which are of incorrect type and inconsistant format"
   ]
  },
  {
   "cell_type": "markdown",
   "metadata": {},
   "source": [
    " #### 4.1 converting Mbs to Kbs and converting it to float in 'Size'"
   ]
  },
  {
   "cell_type": "code",
   "execution_count": 13,
   "metadata": {},
   "outputs": [],
   "source": [
    "def Skb(MegaBytes):\n",
    "    if (MegaBytes[-1:] == 'M') | (MegaBytes[-1:] == 'm'):\n",
    "        return float(MegaBytes[:-1])*1000\n",
    "    elif (MegaBytes[-1:] == 'k') | (MegaBytes[-1:] == 'K'):\n",
    "        return float(MegaBytes[:-1])*1\n",
    "    else:\n",
    "        return np.nan\n",
    "df['Size'] = df['Size'].apply(Skb)"
   ]
  },
  {
   "cell_type": "code",
   "execution_count": 14,
   "metadata": {},
   "outputs": [],
   "source": [
    "# converted the data and converted the observations which are of inconsistant format to Null values\n",
    "# checking for Null values in below cell"
   ]
  },
  {
   "cell_type": "code",
   "execution_count": 15,
   "metadata": {},
   "outputs": [
    {
     "data": {
      "text/plain": [
       "App                  0\n",
       "Category             0\n",
       "Rating               0\n",
       "Reviews              0\n",
       "Size              1694\n",
       "Installs             0\n",
       "Type                 0\n",
       "Price                0\n",
       "Content Rating       0\n",
       "Genres               0\n",
       "Last Updated         0\n",
       "Current Ver          8\n",
       "Android Ver          2\n",
       "dtype: int64"
      ]
     },
     "execution_count": 15,
     "metadata": {},
     "output_type": "execute_result"
    }
   ],
   "source": [
    "df.isna().sum()"
   ]
  },
  {
   "cell_type": "code",
   "execution_count": 16,
   "metadata": {},
   "outputs": [],
   "source": [
    "# we have 1694 Null values in 'Size'."
   ]
  },
  {
   "cell_type": "code",
   "execution_count": 17,
   "metadata": {},
   "outputs": [],
   "source": [
    "# size is a Continuous data, so i decided to fill size with mean value of the variable."
   ]
  },
  {
   "cell_type": "code",
   "execution_count": 18,
   "metadata": {},
   "outputs": [],
   "source": [
    "df['Size'] = df['Size'].fillna(df['Size'].mean())"
   ]
  },
  {
   "cell_type": "markdown",
   "metadata": {},
   "source": [
    "#### Dropping the irrelevent cols"
   ]
  },
  {
   "cell_type": "code",
   "execution_count": 19,
   "metadata": {},
   "outputs": [],
   "source": [
    "# we didnot dropped the Null values in Current version and Android versions,\n",
    "# in my opinion they are irrelevent cols and hold no significant analytical weightage.\n",
    "# instead of dropping the Null values we can drop these cols themselves"
   ]
  },
  {
   "cell_type": "code",
   "execution_count": 20,
   "metadata": {},
   "outputs": [],
   "source": [
    "# dropping the cols with Null values\n",
    "# resetting the index\n",
    "df.dropna(axis = 1, inplace = True)\n",
    "df.reset_index(drop = True, inplace = True)"
   ]
  },
  {
   "cell_type": "code",
   "execution_count": 21,
   "metadata": {},
   "outputs": [
    {
     "data": {
      "text/plain": [
       "App               0\n",
       "Category          0\n",
       "Rating            0\n",
       "Reviews           0\n",
       "Size              0\n",
       "Installs          0\n",
       "Type              0\n",
       "Price             0\n",
       "Content Rating    0\n",
       "Genres            0\n",
       "Last Updated      0\n",
       "dtype: int64"
      ]
     },
     "execution_count": 21,
     "metadata": {},
     "output_type": "execute_result"
    }
   ],
   "source": [
    "# checking if there is any Null values\n",
    "df.isna().sum()"
   ]
  },
  {
   "cell_type": "markdown",
   "metadata": {},
   "source": [
    "we successfully removed Null values and removed unnecessary columns"
   ]
  },
  {
   "cell_type": "markdown",
   "metadata": {},
   "source": [
    "####  Reviewing the variables"
   ]
  },
  {
   "cell_type": "code",
   "execution_count": 22,
   "metadata": {},
   "outputs": [
    {
     "name": "stdout",
     "output_type": "stream",
     "text": [
      "<class 'pandas.core.frame.DataFrame'>\n",
      "RangeIndex: 10839 entries, 0 to 10838\n",
      "Data columns (total 11 columns):\n",
      " #   Column          Non-Null Count  Dtype  \n",
      "---  ------          --------------  -----  \n",
      " 0   App             10839 non-null  object \n",
      " 1   Category        10839 non-null  object \n",
      " 2   Rating          10839 non-null  float64\n",
      " 3   Reviews         10839 non-null  object \n",
      " 4   Size            10839 non-null  float64\n",
      " 5   Installs        10839 non-null  object \n",
      " 6   Type            10839 non-null  object \n",
      " 7   Price           10839 non-null  object \n",
      " 8   Content Rating  10839 non-null  object \n",
      " 9   Genres          10839 non-null  object \n",
      " 10  Last Updated    10839 non-null  object \n",
      "dtypes: float64(2), object(9)\n",
      "memory usage: 931.6+ KB\n"
     ]
    }
   ],
   "source": [
    "df.info()"
   ]
  },
  {
   "cell_type": "raw",
   "metadata": {},
   "source": [
    "'''\n",
    "#   Column          Non-Null Count  Dtype  \n",
    "---  ------          --------------  -----  \n",
    " 0   App             10839 non-null  object  -->  pure string\n",
    " 1   Category        10839 non-null  object  --> categorical\n",
    " 2   Rating          10839 non-null  float64 --> categoical --> ordinal\n",
    " 3   Reviews         10839 non-null  object  --> continuous --> convert it to numerical *\n",
    " 4   Size            10839 non-null  float64 --> continuous\n",
    " 5   Installs        10839 non-null  object  --> continuous --> convert it to numerical *\n",
    " 6   Type            10839 non-null  object ---> categorical\n",
    " 7   Price           10839 non-null  object ---> continuous --> convert it to numerical *\n",
    " 8   Content Rating  10839 non-null  object ---> categorical\n",
    " 9   Genres          10839 non-null  object ---> categorical\n",
    " 10  Last Updated    10839 non-null  object ---> categorical (Date)\n",
    " \n",
    "'''"
   ]
  },
  {
   "cell_type": "markdown",
   "metadata": {},
   "source": [
    "#### 4.2 converting Reviews to numeric col"
   ]
  },
  {
   "cell_type": "code",
   "execution_count": 23,
   "metadata": {},
   "outputs": [],
   "source": [
    "df['Reviews'] = df['Reviews'].astype('int64')"
   ]
  },
  {
   "cell_type": "markdown",
   "metadata": {},
   "source": [
    "#### 4.3 formating the Installs col and converitng it to numerical"
   ]
  },
  {
   "cell_type": "code",
   "execution_count": 24,
   "metadata": {},
   "outputs": [
    {
     "data": {
      "text/plain": [
       "array(['10,000+', '500,000+', '5,000,000+', '50,000,000+', '100,000+',\n",
       "       '50,000+', '1,000,000+', '10,000,000+', '5,000+', '100,000,000+',\n",
       "       '1,000,000,000+', '1,000+', '500,000,000+', '50+', '100+', '500+',\n",
       "       '10+', '1+', '5+', '0+'], dtype=object)"
      ]
     },
     "execution_count": 24,
     "metadata": {},
     "output_type": "execute_result"
    }
   ],
   "source": [
    "df['Installs'].unique() # checking unique values"
   ]
  },
  {
   "cell_type": "code",
   "execution_count": 25,
   "metadata": {},
   "outputs": [],
   "source": [
    "def install(obs):\n",
    "    if ',' and '+' in obs:\n",
    "        return int(obs.replace(',', '').strip('+'))\n",
    "    \n",
    "df['Installs'] = df['Installs'].apply(install)\n"
   ]
  },
  {
   "cell_type": "markdown",
   "metadata": {},
   "source": [
    "successfully removed ',' and  '+' from Installs col"
   ]
  },
  {
   "cell_type": "markdown",
   "metadata": {},
   "source": [
    "#### 4.4 formating Price column"
   ]
  },
  {
   "cell_type": "code",
   "execution_count": 26,
   "metadata": {},
   "outputs": [],
   "source": [
    "df['Price'] = [i.strip('$') for i in df['Price']]\n",
    "df['Price'] = df['Price'].astype('float64')"
   ]
  },
  {
   "cell_type": "markdown",
   "metadata": {},
   "source": [
    "#### we successfully removed '$' and converted the Price col into numeric"
   ]
  },
  {
   "cell_type": "markdown",
   "metadata": {},
   "source": [
    "#### 4.5 $ Sanity $  Cheques $ $ $"
   ]
  },
  {
   "cell_type": "code",
   "execution_count": 27,
   "metadata": {},
   "outputs": [
    {
     "name": "stdout",
     "output_type": "stream",
     "text": [
      "The ratings less than zero:  0\n",
      "The ratings more than 5:  0\n"
     ]
    }
   ],
   "source": [
    "# 4.5.1 checking the rating are above or below the provided range\n",
    "print(\"The ratings less than zero: \",(df['Rating'] < 0).sum())\n",
    "print(\"The ratings more than 5: \",(df['Rating'] > 5).sum())"
   ]
  },
  {
   "cell_type": "markdown",
   "metadata": {},
   "source": [
    "#### There are no records with unusual ratings "
   ]
  },
  {
   "cell_type": "code",
   "execution_count": 28,
   "metadata": {},
   "outputs": [
    {
     "data": {
      "text/plain": [
       "11"
      ]
     },
     "execution_count": 28,
     "metadata": {},
     "output_type": "execute_result"
    }
   ],
   "source": [
    "# 4.5.2 checking whether reviews more than Installs\n",
    "(df['Reviews'] > df['Installs']).sum()"
   ]
  },
  {
   "cell_type": "markdown",
   "metadata": {},
   "source": [
    "#### There are 11 records where reviews are more than installs"
   ]
  },
  {
   "cell_type": "code",
   "execution_count": 29,
   "metadata": {},
   "outputs": [],
   "source": [
    "# Removing/ dropping the records with reviews more than installs\n",
    "df =  df[(df['Reviews'] <= df['Installs'])]\n",
    "df.reset_index(drop = True, inplace = True)"
   ]
  },
  {
   "cell_type": "code",
   "execution_count": 30,
   "metadata": {},
   "outputs": [
    {
     "data": {
      "text/plain": [
       "0"
      ]
     },
     "execution_count": 30,
     "metadata": {},
     "output_type": "execute_result"
    }
   ],
   "source": [
    "# 4.5.3 checking any free app is priced above 0 \n",
    "((df['Type'] == 'Free') & df['Price'] > 0).sum()"
   ]
  },
  {
   "cell_type": "markdown",
   "metadata": {},
   "source": [
    "#### There is no such record with Type 'Free' and Priced higher than 0."
   ]
  },
  {
   "cell_type": "markdown",
   "metadata": {},
   "source": [
    "# 5. Univariate Analysis"
   ]
  },
  {
   "cell_type": "code",
   "execution_count": 31,
   "metadata": {},
   "outputs": [],
   "source": [
    "import matplotlib.pyplot as plt\n",
    "import seaborn as sns\n",
    "%matplotlib inline"
   ]
  },
  {
   "cell_type": "markdown",
   "metadata": {},
   "source": [
    "#### Boxplot for the Price"
   ]
  },
  {
   "cell_type": "code",
   "execution_count": 32,
   "metadata": {},
   "outputs": [
    {
     "data": {
      "image/png": "[encoded data removed]",
      "text/plain": [
       "<Figure size 864x432 with 1 Axes>"
      ]
     },
     "metadata": {
      "needs_background": "light"
     },
     "output_type": "display_data"
    }
   ],
   "source": [
    "# Direction : Are there any outliers? \n",
    "# Think about the price of usual apps on Play Store.       -->(Domain Knowledge)\n",
    "sns.boxplot(df['Price']).set_title('Boxplot for Price')\n",
    "plt.gcf().set_size_inches(12, 6)"
   ]
  },
  {
   "cell_type": "raw",
   "metadata": {},
   "source": [
    "By considering the price of usual apps in playstore.\n",
    "Generally, most of the apps in the playstore are free.              (i would never pay for any app)\n",
    "yes there are Outliers.\n",
    "------------------------"
   ]
  },
  {
   "cell_type": "markdown",
   "metadata": {},
   "source": [
    "#### Boxplot for Reviews"
   ]
  },
  {
   "cell_type": "code",
   "execution_count": 33,
   "metadata": {},
   "outputs": [
    {
     "data": {
      "image/png": "[encoded data removed]",
      "text/plain": [
       "<Figure size 864x432 with 1 Axes>"
      ]
     },
     "metadata": {
      "needs_background": "light"
     },
     "output_type": "display_data"
    }
   ],
   "source": [
    "# Direction : Are there any apps with very high number of reviews? \n",
    "# Do the values seem right?\n",
    "#-----------------------------------------------------------------\n",
    "\n",
    "sns.boxplot(df['Reviews']).set_title('Boxplot for Reviews')\n",
    "plt.gcf().set_size_inches(12, 6)"
   ]
  },
  {
   "cell_type": "raw",
   "metadata": {},
   "source": [
    "yes there are apps with very high number of reviews.\n",
    "Nothing wrong with having high number of reviews.\n",
    "people tend to review the apps they install."
   ]
  },
  {
   "cell_type": "markdown",
   "metadata": {},
   "source": [
    "#### Histogram for Rating"
   ]
  },
  {
   "cell_type": "code",
   "execution_count": 34,
   "metadata": {},
   "outputs": [
    {
     "data": {
      "image/png": "[encoded data removed]",
      "text/plain": [
       "<Figure size 864x432 with 1 Axes>"
      ]
     },
     "metadata": {
      "needs_background": "light"
     },
     "output_type": "display_data"
    }
   ],
   "source": [
    "# Direction : How are the ratings distributed? \n",
    "# Is it more toward higher ratings?\n",
    "#-------------------------------------------\n",
    "\n",
    "sns.distplot(df['Rating']).set_title('Histogram for Rating')\n",
    "plt.gcf().set_size_inches(12, 6)\n"
   ]
  },
  {
   "cell_type": "raw",
   "metadata": {},
   "source": [
    "The observations of ratings are normally distributed.\n",
    "and there is -ve skew. \n",
    "The observations are higher towards Lower Ratings."
   ]
  },
  {
   "cell_type": "markdown",
   "metadata": {},
   "source": [
    "#### Histogram for Size"
   ]
  },
  {
   "cell_type": "code",
   "execution_count": 35,
   "metadata": {},
   "outputs": [
    {
     "data": {
      "image/png": "[encoded data removed]",
      "text/plain": [
       "<Figure size 864x432 with 1 Axes>"
      ]
     },
     "metadata": {
      "needs_background": "light"
     },
     "output_type": "display_data"
    }
   ],
   "source": [
    "sns.distplot(df['Size']).set_title('Histogram for size')\n",
    "plt.gcf().set_size_inches(12, 6)"
   ]
  },
  {
   "cell_type": "markdown",
   "metadata": {},
   "source": [
    "The observations are not normally distributed."
   ]
  },
  {
   "cell_type": "markdown",
   "metadata": {},
   "source": [
    "#### final conclusion : From the above plots we can conclude that all the variables have outliers but outliers in \"Revies\" and \"Size\" afffecting the dist more significantly"
   ]
  },
  {
   "cell_type": "markdown",
   "metadata": {},
   "source": [
    "# 6. Outlier Treatment"
   ]
  },
  {
   "cell_type": "code",
   "execution_count": 36,
   "metadata": {},
   "outputs": [
    {
     "name": "stdout",
     "output_type": "stream",
     "text": [
      "No of Apps priced more than 200:  17\n",
      "No of Apps priced less than 200:  10810\n"
     ]
    }
   ],
   "source": [
    "# 6.1.1 Price: From the box plot, it seems like there are some apps with very high price. \n",
    "# A price of $200 for an application on the Play Store is very high and suspicious!\n",
    "#--------------------------------------------------------------------------------------\n",
    "# Check out the records with very high price.\n",
    "# Is 200 indeed a high price?\n",
    "#---------------------------------------------------------------------------------------\n",
    "\n",
    "print(\"No of Apps priced more than 200: \",(df['Price'] > 200).sum())\n",
    "print(\"No of Apps priced less than 200: \",(df['Price'] < 200).sum())"
   ]
  },
  {
   "cell_type": "markdown",
   "metadata": {},
   "source": [
    "The price of $ 200 is indeed high."
   ]
  },
  {
   "cell_type": "code",
   "execution_count": 37,
   "metadata": {},
   "outputs": [],
   "source": [
    "# 6.1.2 # Drop these as most seem to be junk apps\n",
    "\n",
    "df = df[(df['Price'] <= 0)]\n",
    "df.reset_index(drop = True, inplace = True)"
   ]
  },
  {
   "cell_type": "markdown",
   "metadata": {},
   "source": [
    "we successfully removed the apps having price more than $200."
   ]
  },
  {
   "cell_type": "code",
   "execution_count": 38,
   "metadata": {},
   "outputs": [],
   "source": [
    "# 6.2 Reviews: Very few apps have very high number of reviews. \n",
    "\n",
    "# Direction:\n",
    "# -----------\n",
    "# These are all star apps that don’t help with the analysis and, in fact, will skew it. \n",
    "# Drop records having more than 2 million reviews.\n",
    "#----------------------------------------------------\n",
    "\n",
    "df = df[(df['Reviews'] < 2000000)]"
   ]
  },
  {
   "cell_type": "markdown",
   "metadata": {},
   "source": [
    "Successfully removed records with more than 2 million reviews."
   ]
  },
  {
   "cell_type": "raw",
   "metadata": {},
   "source": [
    "# 6.3\n",
    "Installs:  There seems to be some outliers in this field too. \n",
    "Apps having very high number of installs should be dropped from the analysis.\n",
    "\n",
    "Direction By DS:\n",
    "----------------\n",
    "Find out the different percentiles – 10, 25, 50, 70, 90, 95, 99\n",
    "\n",
    "Decide a threshold as cutoff for outlier and drop records having values more than that"
   ]
  },
  {
   "cell_type": "code",
   "execution_count": 39,
   "metadata": {},
   "outputs": [],
   "source": [
    "percentile_list = [10, 25, 50, 70, 90, 95, 99]              # created the list for the percentiles\n",
    "percentile_value = [np.percentile(df['Installs'],10),\n",
    "                    np.percentile(df['Installs'],25),\n",
    "                    np.percentile(df['Installs'],50),\n",
    "                    np.percentile(df['Installs'],70),\n",
    "                    np.percentile(df['Installs'],90),\n",
    "                    np.percentile(df['Installs'],95),\n",
    "                    np.percentile(df['Installs'],99)\n",
    "                   ]                                        # created list for the percentile value, so that both\n",
    "                                                            # lists can be merged to make easy for visualization\n",
    "    \n",
    "percentile_list = pd.DataFrame(percentile_list, columns = ['Percentile']) #converting to pandas DF\n",
    "percentile_value = pd.DataFrame(percentile_value, columns = ['Value'])\n",
    "percentile_df = pd.concat([percentile_list, percentile_value],axis = 1)   # merge 2 above DFs"
   ]
  },
  {
   "cell_type": "code",
   "execution_count": 40,
   "metadata": {},
   "outputs": [
    {
     "data": {
      "text/html": [
       "<div>\n",
       "<style scoped>\n",
       "    .dataframe tbody tr th:only-of-type {\n",
       "        vertical-align: middle;\n",
       "    }\n",
       "\n",
       "    .dataframe tbody tr th {\n",
       "        vertical-align: top;\n",
       "    }\n",
       "\n",
       "    .dataframe thead th {\n",
       "        text-align: right;\n",
       "    }\n",
       "</style>\n",
       "<table border=\"1\" class=\"dataframe\">\n",
       "  <thead>\n",
       "    <tr style=\"text-align: right;\">\n",
       "      <th></th>\n",
       "      <th>Percentile</th>\n",
       "      <th>Value</th>\n",
       "    </tr>\n",
       "  </thead>\n",
       "  <tbody>\n",
       "    <tr>\n",
       "      <th>0</th>\n",
       "      <td>10</td>\n",
       "      <td>100.0</td>\n",
       "    </tr>\n",
       "    <tr>\n",
       "      <th>1</th>\n",
       "      <td>25</td>\n",
       "      <td>5000.0</td>\n",
       "    </tr>\n",
       "    <tr>\n",
       "      <th>2</th>\n",
       "      <td>50</td>\n",
       "      <td>100000.0</td>\n",
       "    </tr>\n",
       "    <tr>\n",
       "      <th>3</th>\n",
       "      <td>70</td>\n",
       "      <td>1000000.0</td>\n",
       "    </tr>\n",
       "    <tr>\n",
       "      <th>4</th>\n",
       "      <td>90</td>\n",
       "      <td>10000000.0</td>\n",
       "    </tr>\n",
       "    <tr>\n",
       "      <th>5</th>\n",
       "      <td>95</td>\n",
       "      <td>10000000.0</td>\n",
       "    </tr>\n",
       "    <tr>\n",
       "      <th>6</th>\n",
       "      <td>99</td>\n",
       "      <td>100000000.0</td>\n",
       "    </tr>\n",
       "  </tbody>\n",
       "</table>\n",
       "</div>"
      ],
      "text/plain": [
       "   Percentile        Value\n",
       "0          10        100.0\n",
       "1          25       5000.0\n",
       "2          50     100000.0\n",
       "3          70    1000000.0\n",
       "4          90   10000000.0\n",
       "5          95   10000000.0\n",
       "6          99  100000000.0"
      ]
     },
     "execution_count": 40,
     "metadata": {},
     "output_type": "execute_result"
    }
   ],
   "source": [
    "percentile_df"
   ]
  },
  {
   "cell_type": "raw",
   "metadata": {},
   "source": [
    "So i decided anything less than 25%ile and more than 95%ile  as threshold to take as outliers. \n",
    "Executed in below cell."
   ]
  },
  {
   "cell_type": "code",
   "execution_count": 41,
   "metadata": {},
   "outputs": [],
   "source": [
    "df = df[(df['Installs'] <= 10000000) & (df['Installs'] >= 10000)]\n",
    "df.reset_index(drop = True, inplace = True)"
   ]
  },
  {
   "cell_type": "markdown",
   "metadata": {},
   "source": [
    "# 7. Bivariate Analysis"
   ]
  },
  {
   "cell_type": "code",
   "execution_count": 42,
   "metadata": {},
   "outputs": [
    {
     "data": {
      "image/png": "[encoded data removed]",
      "text/plain": [
       "<Figure size 864x432 with 3 Axes>"
      ]
     },
     "metadata": {
      "needs_background": "light"
     },
     "output_type": "display_data"
    }
   ],
   "source": [
    "# 7.1 Make scatter plot/joinplot for Rating vs. Price\n",
    "# What pattern do you observe? Does rating increase with price?\n",
    "#---------------------------------------------------------------\n",
    "\n",
    "sns.jointplot(df['Rating'], df['Price']).fig.suptitle('Rating vs. Price')\n",
    "plt.gcf().set_size_inches(12, 6)"
   ]
  },
  {
   "cell_type": "markdown",
   "metadata": {},
   "source": [
    "#### No the ratings do not increase with price, they have no linear relations."
   ]
  },
  {
   "cell_type": "code",
   "execution_count": 43,
   "metadata": {},
   "outputs": [
    {
     "data": {
      "image/png": "[encoded data removed]",
      "text/plain": [
       "<Figure size 864x432 with 3 Axes>"
      ]
     },
     "metadata": {
      "needs_background": "light"
     },
     "output_type": "display_data"
    }
   ],
   "source": [
    "# 7.2 Make scatter plot/joinplot for Rating vs. Size\n",
    "# Are heavier apps rated better?\n",
    "#--------------------------------------\n",
    "\n",
    "sns.jointplot( x = 'Rating', y = 'Size',data = df).fig.suptitle('Rating vs. Size')\n",
    "plt.gcf().set_size_inches(12, 6)"
   ]
  },
  {
   "cell_type": "markdown",
   "metadata": {},
   "source": [
    "#### No, heavier apps are not rated better."
   ]
  },
  {
   "cell_type": "code",
   "execution_count": 44,
   "metadata": {},
   "outputs": [
    {
     "data": {
      "image/png": "[encoded data removed]",
      "text/plain": [
       "<Figure size 864x432 with 3 Axes>"
      ]
     },
     "metadata": {
      "needs_background": "light"
     },
     "output_type": "display_data"
    }
   ],
   "source": [
    "# 7.3 Make scatter plot/joinplot for Rating vs. Reviews\n",
    "# Does more review mean a better rating always?\n",
    "#-----------------------------------------------------\n",
    "\n",
    "\n",
    "sns.jointplot(data = df, x = 'Rating',y = 'Reviews').fig.suptitle('Rating vs. Reviews')\n",
    "plt.gcf().set_size_inches(12, 6)"
   ]
  },
  {
   "cell_type": "markdown",
   "metadata": {},
   "source": [
    "#### No, more reviews does not always mean the better ratings."
   ]
  },
  {
   "cell_type": "code",
   "execution_count": 45,
   "metadata": {},
   "outputs": [
    {
     "data": {
      "image/png": "[encoded data removed]",
      "text/plain": [
       "<Figure size 720x432 with 1 Axes>"
      ]
     },
     "metadata": {
      "needs_background": "light"
     },
     "output_type": "display_data"
    }
   ],
   "source": [
    "# 7.4 Make boxplot for Rating vs. Content Rating\n",
    "# Is there any difference in the ratings? Are some types liked better?\n",
    "#-----------------------------------------------------------------------\n",
    "\n",
    "sns.boxplot(df['Rating'], \n",
    "            df['Content Rating'], \n",
    "            palette = 'gist_ncar').set_title('Rating vs. Content Rating')\n",
    "plt.gcf().set_size_inches(10, 6)"
   ]
  },
  {
   "cell_type": "markdown",
   "metadata": {},
   "source": [
    "#### yes, there are significant changes in Ratings,\n",
    "#### 'Everyone', 'Teen' and 'Mature 17+' are rated better than other apps."
   ]
  },
  {
   "cell_type": "code",
   "execution_count": 46,
   "metadata": {
    "scrolled": false
   },
   "outputs": [
    {
     "data": {
      "image/png": "[encoded data removed]",
      "text/plain": [
       "<Figure size 1080x432 with 1 Axes>"
      ]
     },
     "metadata": {
      "needs_background": "light"
     },
     "output_type": "display_data"
    }
   ],
   "source": [
    "# 7.5 Make boxplot for Ratings vs. Category\n",
    "# Which genre has the best ratings?\n",
    "#-----------------------------------------------------\n",
    "\n",
    "sns.boxplot(x = 'Category',\n",
    "            y = 'Rating',\n",
    "            data = df,\n",
    "            palette = 'gist_ncar').set_title('Ratings vs. Category')\n",
    "\n",
    "plt.xticks(fontsize=10, rotation = 'vertical')\n",
    "plt.gcf().set_size_inches(15, 6)"
   ]
  },
  {
   "cell_type": "markdown",
   "metadata": {},
   "source": [
    "#### 'Art and Design', 'Education', 'Health and Fitness' and 'Parenting has' the highest ratings"
   ]
  },
  {
   "cell_type": "markdown",
   "metadata": {},
   "source": [
    "# 8. Data Preprocessing"
   ]
  },
  {
   "cell_type": "code",
   "execution_count": 47,
   "metadata": {},
   "outputs": [],
   "source": [
    "# For the steps below, create a copy of the dataframe to make all the edits. Name it inp1.\n",
    "# ----------------------------------------------------------------------------------------\n",
    "\n",
    "inp1 = df.copy() # copied the dataframe."
   ]
  },
  {
   "cell_type": "code",
   "execution_count": 48,
   "metadata": {},
   "outputs": [],
   "source": [
    "# 8.1 Reviews and Install have some values that are still relatively very high.\n",
    "# Before building a linear regression model, you need to reduce the skew. \n",
    "# Apply log transformation (np.log1p) to Reviews and Installs.\n",
    "#------------------------------------------------------------------------------\n",
    "inp1['log1_reviews'] = np.log1p(inp1['Reviews'])\n",
    "inp1['log1_installs'] = np.log1p(inp1['Installs'])    #Applying log transformations"
   ]
  },
  {
   "cell_type": "markdown",
   "metadata": {},
   "source": [
    "##### 8.2 Drop columns App, Last Updated, Current Ver, and Android Ver.These variables are not useful for our task.\n",
    "##### As $ Current  Ver $ and $ Android Ver $ already removed in earlier steps.\n",
    "*to see please refer 4.1 \n",
    "#### or \n",
    "#### click here 👇\n",
    "\n",
    "[Dropping the irrelevent cols](#Dropping-the-irrelevent-cols)       "
   ]
  },
  {
   "cell_type": "code",
   "execution_count": 49,
   "metadata": {},
   "outputs": [],
   "source": [
    "# Dropping 'App' and 'Last Updated' columns\n",
    "inp1.drop(['App', 'Last Updated'], axis = 'columns', inplace = True)"
   ]
  },
  {
   "cell_type": "code",
   "execution_count": 50,
   "metadata": {},
   "outputs": [],
   "source": [
    "# 8.3 Get dummy columns for Category, Genres, and Content Rating.\n",
    "# This needs to be done as the models do not understand categorical data, and all data should be numeric.\n",
    "# Dummy encoding is one way to convert character fields to numeric. \n",
    "# Name of dataframe should be inp2. 👈 (be aware it should be 'inp2')\n",
    "#---------------------------------------------------------------------\n",
    "\n",
    "inp2 = pd.get_dummies(inp1, columns = ['Category', 'Genres', 'Content Rating', 'Type'])"
   ]
  },
  {
   "cell_type": "code",
   "execution_count": 51,
   "metadata": {},
   "outputs": [
    {
     "data": {
      "text/plain": [
       "(6511, 159)"
      ]
     },
     "execution_count": 51,
     "metadata": {},
     "output_type": "execute_result"
    }
   ],
   "source": [
    "inp2.shape "
   ]
  },
  {
   "cell_type": "code",
   "execution_count": 52,
   "metadata": {},
   "outputs": [],
   "source": [
    "inp2.drop(['Installs','Reviews'], axis = 1, inplace = True) \n",
    "#removed because we made log transformations of both the reviews and installs\n"
   ]
  },
  {
   "cell_type": "markdown",
   "metadata": {},
   "source": [
    "# 9. Train/Test split to 70-30 Ratio "
   ]
  },
  {
   "cell_type": "code",
   "execution_count": 59,
   "metadata": {},
   "outputs": [],
   "source": [
    "X = inp2.iloc[:,1:]\n",
    "y = inp2[['Rating']]"
   ]
  },
  {
   "cell_type": "markdown",
   "metadata": {},
   "source": [
    "# 10. Separate the dataframes into X_train, y_train,X_test, and y_test."
   ]
  },
  {
   "cell_type": "code",
   "execution_count": 60,
   "metadata": {},
   "outputs": [],
   "source": [
    "from sklearn.model_selection import train_test_split\n",
    "\n",
    "x_train, x_test, y_train, y_test = train_test_split(X,\n",
    "                                                 y,\n",
    "                                                 train_size = 0.7,\n",
    "                                                 random_state=100)"
   ]
  },
  {
   "cell_type": "markdown",
   "metadata": {},
   "source": [
    "# 11. Model building"
   ]
  },
  {
   "cell_type": "markdown",
   "metadata": {},
   "source": [
    "#### 1. Linear regression using linear regression as the technique"
   ]
  },
  {
   "cell_type": "code",
   "execution_count": 61,
   "metadata": {},
   "outputs": [
    {
     "data": {
      "text/plain": [
       "LinearRegression()"
      ]
     },
     "execution_count": 61,
     "metadata": {},
     "output_type": "execute_result"
    }
   ],
   "source": [
    "from sklearn.linear_model import LinearRegression\n",
    "\n",
    "apps_lm = LinearRegression()\n",
    "\n",
    "apps_lm.fit(x_train, y_train)"
   ]
  },
  {
   "cell_type": "markdown",
   "metadata": {},
   "source": [
    "#### 2. R Squared on Train Set"
   ]
  },
  {
   "cell_type": "code",
   "execution_count": 62,
   "metadata": {},
   "outputs": [
    {
     "name": "stdout",
     "output_type": "stream",
     "text": [
      "R squared of train model is:  0.21941595187132368\n"
     ]
    }
   ],
   "source": [
    "from sklearn.metrics import r2_score\n",
    "\n",
    "actualLabels = y_train\n",
    "predLabels = apps_lm.predict(x_train)\n",
    "\n",
    "r2_train = r2_score(actualLabels,predLabels)\n",
    "print('R squared of train model is: ',r2_train)"
   ]
  },
  {
   "cell_type": "markdown",
   "metadata": {},
   "source": [
    "# 12. R squared on Test set"
   ]
  },
  {
   "cell_type": "code",
   "execution_count": 63,
   "metadata": {},
   "outputs": [
    {
     "name": "stdout",
     "output_type": "stream",
     "text": [
      "R squared of test model is:  0.17169005315079056\n"
     ]
    }
   ],
   "source": [
    "from sklearn.metrics import r2_score\n",
    "\n",
    "actualLabel = y_test\n",
    "predLabel = apps_lm.predict(x_test)\n",
    "\n",
    "r2_test = r2_score(actualLabel,predLabel)\n",
    "print('R squared of test model is: ',r2_test)"
   ]
  },
  {
   "cell_type": "markdown",
   "metadata": {},
   "source": [
    "![The End](https://drive.google.com/uc?export=view&id=1bjUl97fMuwiJxamBtdiQxxZPIwBplV8F)"
   ]
  },
  {
   "cell_type": "markdown",
   "metadata": {},
   "source": [
    "[to go to top](#App-Rating-Prediction)"
   ]
  }
 ],
 "metadata": {
  "kernelspec": {
   "display_name": "Python 3",
   "language": "python",
   "name": "python3"
  },
  "language_info": {
   "codemirror_mode": {
    "name": "ipython",
    "version": 3
   },
   "file_extension": ".py",
   "mimetype": "text/x-python",
   "name": "python",
   "nbconvert_exporter": "python",
   "pygments_lexer": "ipython3",
   "version": "3.8.3"
  }
 },
 "nbformat": 4,
 "nbformat_minor": 4
}
